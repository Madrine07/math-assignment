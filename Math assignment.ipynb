{
 "cells": [
  {
   "cell_type": "markdown",
   "id": "0687fb37-5651-4798-9307-59a1b0870d03",
   "metadata": {},
   "source": [
    "# GROUP REG NUMBERS\n",
    "1.\t2024/DSC/0083/SS\n",
    "2.\t2024/DSC/0063/SS\n",
    "3.\t2024/DSC/0085/SS\n",
    "4.\t2024/DSC/0089/SS\n",
    "5.\t2024/DSC/0097/SS\n",
    "6.\t2024/DSC/0103/SS\n",
    "7.\t2024/DSC/0037/SS\n",
    "8.\t2024/DSC/0086/SS\n",
    "9.\t2024/DSC/00/SS\n",
    "\n",
    "\n"
   ]
  },
  {
   "cell_type": "markdown",
   "id": "6b84c1a4-3e2b-447f-ac9d-08c347fa4e78",
   "metadata": {},
   "source": [
    "# NUMBER ONE"
   ]
  },
  {
   "cell_type": "code",
   "execution_count": 1,
   "id": "70ee05ad-27b9-48fc-9d32-5f1879997ee0",
   "metadata": {},
   "outputs": [],
   "source": [
    "import numpy as np\n",
    "import matplotlib as plt"
   ]
  },
  {
   "cell_type": "code",
   "execution_count": 2,
   "id": "bcb86a3a-d7ed-4279-a58e-56b87a39e3b1",
   "metadata": {},
   "outputs": [
    {
     "name": "stdout",
     "output_type": "stream",
     "text": [
      "[[ 2  2  3]\n",
      " [-2  7  4]\n",
      " [-3 -3 -4]\n",
      " [-8  2  3]]\n"
     ]
    }
   ],
   "source": [
    "A = np.array([[2,2,3], [-2,7,4], [-3,-3,-4], [-8,2,3]])\n",
    "print(A)"
   ]
  },
  {
   "cell_type": "code",
   "execution_count": 3,
   "id": "9d999547-945c-4320-80e1-410d71dab4b7",
   "metadata": {},
   "outputs": [
    {
     "name": "stdout",
     "output_type": "stream",
     "text": [
      "[[ 2  2  3  3]\n",
      " [-2  7  4  4]\n",
      " [-3 -3 -4  5]\n",
      " [-8  2  3  7]]\n"
     ]
    }
   ],
   "source": [
    "add_column = np.array([[3], [4], [5], [7]])\n",
    "add_column = np.hstack((A, add_column))\n",
    "print(add_column)"
   ]
  },
  {
   "cell_type": "code",
   "execution_count": 4,
   "id": "db7b792c-5418-4264-ad46-3c03336ded00",
   "metadata": {},
   "outputs": [
    {
     "name": "stdout",
     "output_type": "stream",
     "text": [
      "-1133.9999999999998\n"
     ]
    }
   ],
   "source": [
    "det_A = np.linalg.det(add_column)\n",
    "print(det_A)"
   ]
  },
  {
   "cell_type": "markdown",
   "id": "72f29e32-52a4-4bd7-8610-00eb97c3f268",
   "metadata": {},
   "source": [
    "## 2)"
   ]
  },
  {
   "cell_type": "code",
   "execution_count": 5,
   "id": "9cb9c316-d3f0-43f9-ad64-ccdf128bb752",
   "metadata": {},
   "outputs": [
    {
     "name": "stdout",
     "output_type": "stream",
     "text": [
      "[[ 2  2  3]\n",
      " [-2  7  4]\n",
      " [-8  2  3]]\n"
     ]
    }
   ],
   "source": [
    "A = np.array([[2,2,3], [-2,7,4], [-3,-3,-4], [-8,2,3]])\n",
    "remove_column = np.delete(A, 2, axis=0)\n",
    "print(remove_column)"
   ]
  },
  {
   "cell_type": "markdown",
   "id": "71a84c83-1d6a-4567-b373-199028ca8ae1",
   "metadata": {},
   "source": [
    "# 3)"
   ]
  },
  {
   "cell_type": "code",
   "execution_count": 6,
   "id": "a7b5bf35-5da1-4050-befd-0eb107e6239f",
   "metadata": {},
   "outputs": [
    {
     "name": "stdout",
     "output_type": "stream",
     "text": [
      "[[ 2 -2 -3 -8]\n",
      " [ 2  7 -3  2]\n",
      " [ 3  4 -4  3]]\n"
     ]
    }
   ],
   "source": [
    "AT = A.T\n",
    "print(AT)"
   ]
  },
  {
   "cell_type": "code",
   "execution_count": 7,
   "id": "5329db30-fdca-4b9f-af44-68bf731ed782",
   "metadata": {},
   "outputs": [
    {
     "name": "stdout",
     "output_type": "stream",
     "text": [
      "[[ 17  22 -24  -3]\n",
      " [ 22  69 -31  42]\n",
      " [-24 -31  34   6]\n",
      " [ -3  42   6  77]]\n"
     ]
    }
   ],
   "source": [
    "AAT = np.dot(A, AT)\n",
    "print(AAT)"
   ]
  },
  {
   "cell_type": "code",
   "execution_count": 8,
   "id": "9a536f5f-13cd-4e76-8c5c-234d4cb32943",
   "metadata": {},
   "outputs": [
    {
     "name": "stdout",
     "output_type": "stream",
     "text": [
      "3.3772984409097314e-12\n"
     ]
    }
   ],
   "source": [
    "det_AAT = np.linalg.det(AAT)\n",
    "print(det_AAT)"
   ]
  },
  {
   "cell_type": "code",
   "execution_count": 9,
   "id": "6c4cf913-f33d-4096-a545-abd3f13265e5",
   "metadata": {},
   "outputs": [],
   "source": [
    "## since the determinant is no equal to zero, the AAT is also invertible"
   ]
  },
  {
   "cell_type": "markdown",
   "id": "e46fdec7-f109-46f2-a805-7a90966a5d71",
   "metadata": {},
   "source": [
    "# 4)"
   ]
  },
  {
   "cell_type": "code",
   "execution_count": 10,
   "id": "12fe909e-5ec9-4d51-a88f-7a715c1f627e",
   "metadata": {},
   "outputs": [
    {
     "name": "stdout",
     "output_type": "stream",
     "text": [
      "[[ 2 -2 -3 -8]\n",
      " [ 2  7 -3  2]\n",
      " [ 3  4 -4  3]]\n"
     ]
    }
   ],
   "source": [
    "AT = A.T\n",
    "print(AT)"
   ]
  },
  {
   "cell_type": "code",
   "execution_count": 11,
   "id": "a1f80cc1-8405-450c-8c56-3c7b9511757a",
   "metadata": {},
   "outputs": [
    {
     "name": "stdout",
     "output_type": "stream",
     "text": [
      "[[ 81 -17 -14]\n",
      " [-17  66  52]\n",
      " [-14  52  50]]\n"
     ]
    }
   ],
   "source": [
    "ATA = np.dot(AT, A)\n",
    "print(ATA)"
   ]
  },
  {
   "cell_type": "code",
   "execution_count": 12,
   "id": "eea9ad80-db3a-41b2-b676-78f4007f5934",
   "metadata": {},
   "outputs": [
    {
     "name": "stdout",
     "output_type": "stream",
     "text": [
      "45642.00000000001\n"
     ]
    }
   ],
   "source": [
    "det_ATA = np.linalg.det(ATA)\n",
    "print (det_ATA)                        #Since the ATA determinant is not zero, ATA is invertible"
   ]
  },
  {
   "cell_type": "markdown",
   "id": "3ff55463-05ac-4881-b8f3-1f6eb2962255",
   "metadata": {},
   "source": [
    "## QUESTION TWO"
   ]
  },
  {
   "cell_type": "code",
   "execution_count": 13,
   "id": "b15eee9a-5b42-4d1f-bcd6-5ff99c3adef5",
   "metadata": {},
   "outputs": [
    {
     "name": "stdout",
     "output_type": "stream",
     "text": [
      "[[25  2]\n",
      " [ 5 26]\n",
      " [ 3  7]]\n"
     ]
    }
   ],
   "source": [
    " X = np.array([[25, 2], [5, 26], [3, 7]])\n",
    "print (X)"
   ]
  },
  {
   "cell_type": "code",
   "execution_count": 14,
   "id": "863ec552-4ebc-4bd3-b9aa-c77e13017002",
   "metadata": {},
   "outputs": [
    {
     "data": {
      "text/plain": [
       "(3, 2)"
      ]
     },
     "execution_count": 14,
     "metadata": {},
     "output_type": "execute_result"
    }
   ],
   "source": [
    "X.shape"
   ]
  },
  {
   "cell_type": "markdown",
   "id": "2d60ba4b-ecac-4c23-8783-545327299f3a",
   "metadata": {},
   "source": [
    "## 2)"
   ]
  },
  {
   "cell_type": "code",
   "execution_count": 15,
   "id": "a9dabf50-8483-49ca-b216-da8329bc5cc7",
   "metadata": {},
   "outputs": [
    {
     "name": "stdout",
     "output_type": "stream",
     "text": [
      "[[25  5  3]\n",
      " [ 2 26  7]]\n"
     ]
    }
   ],
   "source": [
    "transpose = X.T\n",
    "print(transpose)"
   ]
  },
  {
   "cell_type": "markdown",
   "id": "22812c8e-a50e-48f4-b51e-39240070185c",
   "metadata": {},
   "source": [
    "## 3)"
   ]
  },
  {
   "cell_type": "code",
   "execution_count": 16,
   "id": "4e832dba-c6d2-44d0-b2df-f18b1fd3a332",
   "metadata": {},
   "outputs": [
    {
     "name": "stdout",
     "output_type": "stream",
     "text": [
      "[[75  6]\n",
      " [15 78]\n",
      " [ 9 21]]\n"
     ]
    }
   ],
   "source": [
    "scaled_X = np.dot(X, 3)\n",
    "print(scaled_X)"
   ]
  },
  {
   "cell_type": "markdown",
   "id": "2936637f-f6d0-4415-abf2-e63f5c13bb5f",
   "metadata": {},
   "source": [
    "## 4)"
   ]
  },
  {
   "cell_type": "code",
   "execution_count": 17,
   "id": "a49a09de-9445-460c-9963-6fd28e738ef5",
   "metadata": {},
   "outputs": [
    {
     "name": "stdout",
     "output_type": "stream",
     "text": [
      "[[3 4]\n",
      " [5 6]\n",
      " [7 8]]\n"
     ]
    }
   ],
   "source": [
    "A = np.array([[3, 4], [5, 6], [7, 8]])\n",
    "print(A)"
   ]
  },
  {
   "cell_type": "code",
   "execution_count": 18,
   "id": "9bb90d1f-1cfb-460e-af29-991285fd1ff4",
   "metadata": {},
   "outputs": [
    {
     "data": {
      "text/plain": [
       "array([[25,  5,  3],\n",
       "       [ 2, 26,  7]])"
      ]
     },
     "execution_count": 18,
     "metadata": {},
     "output_type": "execute_result"
    }
   ],
   "source": [
    "Transpose_X = X.T\n",
    "Transpose_X"
   ]
  },
  {
   "cell_type": "code",
   "execution_count": 19,
   "id": "544dc0d7-fb11-4c4e-8384-6bcf7659392e",
   "metadata": {},
   "outputs": [
    {
     "name": "stdout",
     "output_type": "stream",
     "text": [
      "[[121 154]\n",
      " [185 220]]\n"
     ]
    }
   ],
   "source": [
    "multiplied_matrices = Transpose_X.dot(A)\n",
    "print(multiplied_matrices)"
   ]
  },
  {
   "cell_type": "code",
   "execution_count": null,
   "id": "9ab208a7-e9cc-4016-8a26-e7f5509a9384",
   "metadata": {},
   "outputs": [],
   "source": []
  },
  {
   "cell_type": "markdown",
   "id": "a989d1e5-ef4f-4f11-8fad-f76c48923795",
   "metadata": {},
   "source": [
    "## 5)"
   ]
  },
  {
   "cell_type": "code",
   "execution_count": 20,
   "id": "12131db2-e93a-44f1-abaa-6db93ab51938",
   "metadata": {},
   "outputs": [
    {
     "name": "stdout",
     "output_type": "stream",
     "text": [
      "[[-0.11764706  0.08235294]\n",
      " [ 0.09893048 -0.06470588]]\n"
     ]
    }
   ],
   "source": [
    "inv_matrices = np.linalg.inv(multiplied_matrices)\n",
    "print(inv_matrices)"
   ]
  },
  {
   "cell_type": "code",
   "execution_count": null,
   "id": "27a0636b-86b8-4afe-848e-9312e28d53d1",
   "metadata": {},
   "outputs": [],
   "source": []
  },
  {
   "cell_type": "markdown",
   "id": "2f7a7e67-b21e-4e32-bf36-a3fc137d624c",
   "metadata": {},
   "source": [
    "## QUESTION 3"
   ]
  },
  {
   "cell_type": "code",
   "execution_count": 21,
   "id": "6b9321c6-014b-4635-862b-c594da7b7329",
   "metadata": {},
   "outputs": [
    {
     "name": "stdout",
     "output_type": "stream",
     "text": [
      "[[25]\n",
      " [ 2]\n",
      " [ 5]]\n"
     ]
    }
   ],
   "source": [
    "x = np.array([[25], [2], [5]])\n",
    "print(x)"
   ]
  },
  {
   "cell_type": "markdown",
   "id": "b4e725e4-04a3-4278-b9c6-5a353aed6002",
   "metadata": {},
   "source": [
    "## 2)"
   ]
  },
  {
   "cell_type": "code",
   "execution_count": 22,
   "id": "6ddf97d3-0b48-44c2-a4d3-a6d8c8fd9679",
   "metadata": {},
   "outputs": [
    {
     "data": {
      "text/plain": [
       "(3, 1)"
      ]
     },
     "execution_count": 22,
     "metadata": {},
     "output_type": "execute_result"
    }
   ],
   "source": [
    "x.shape"
   ]
  },
  {
   "cell_type": "markdown",
   "id": "4bfbc0ea-eb61-4b85-9058-fe6a33231d96",
   "metadata": {},
   "source": [
    "## 3)"
   ]
  },
  {
   "cell_type": "code",
   "execution_count": 23,
   "id": "7014ef93-f134-4c57-a68f-73c98f49cce9",
   "metadata": {},
   "outputs": [
    {
     "name": "stdout",
     "output_type": "stream",
     "text": [
      "[[25  2  5]]\n"
     ]
    }
   ],
   "source": [
    "x_transpose = x.T\n",
    "print(x_transpose)"
   ]
  },
  {
   "cell_type": "markdown",
   "id": "dd135bbb-3a5b-43dc-860c-6fb23b868eb8",
   "metadata": {},
   "source": [
    "## 4)"
   ]
  },
  {
   "cell_type": "code",
   "execution_count": 24,
   "id": "562a9be9-5620-4d93-ac14-9b6c806f9d46",
   "metadata": {},
   "outputs": [
    {
     "name": "stdout",
     "output_type": "stream",
     "text": [
      "25.573423705088842\n"
     ]
    }
   ],
   "source": [
    "l2_norm = np.linalg.norm(x)\n",
    "print(l2_norm)"
   ]
  },
  {
   "cell_type": "code",
   "execution_count": null,
   "id": "002f4d7b-e004-438d-a126-7a886db0d7e8",
   "metadata": {},
   "outputs": [],
   "source": []
  },
  {
   "cell_type": "code",
   "execution_count": null,
   "id": "f1e3cc30-7292-4349-8a55-f0defa9b64ce",
   "metadata": {},
   "outputs": [],
   "source": []
  },
  {
   "cell_type": "code",
   "execution_count": null,
   "id": "0bd52280-ca71-4828-86a2-c4eae0a73048",
   "metadata": {},
   "outputs": [],
   "source": []
  }
 ],
 "metadata": {
  "kernelspec": {
   "display_name": "Python 3 (ipykernel)",
   "language": "python",
   "name": "python3"
  },
  "language_info": {
   "codemirror_mode": {
    "name": "ipython",
    "version": 3
   },
   "file_extension": ".py",
   "mimetype": "text/x-python",
   "name": "python",
   "nbconvert_exporter": "python",
   "pygments_lexer": "ipython3",
   "version": "3.12.5"
  }
 },
 "nbformat": 4,
 "nbformat_minor": 5
}
